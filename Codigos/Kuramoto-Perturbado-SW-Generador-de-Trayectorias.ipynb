{
 "cells": [
  {
   "cell_type": "markdown",
   "id": "ceed1f86-d7ac-4a2f-a923-4f3eb6566e0b",
   "metadata": {},
   "source": [
    "# Generador de trayectorias (Redes mundo pequeño)\n",
    "En esta notebook planteo un sistema de N ecuaciones diferenciales de primer orden acopladas mediante el modelo de osciladores Kuramoto que conforman una red mundo pequeño: \n",
    "\n",
    "$$ \\dot{\\theta_i}=\\omega_i +\\frac{\\lambda}{\\langle k\\rangle}\\sum_{j=1}^{N}A_{ij}\\sin{(\\theta_j -\\theta_i)} $$\n",
    "\n",
    "A su vez, elijo un porcentaje del total de osciladores y los perturbo con una fuerza periodica:\n",
    "\n",
    "$$ \\dot{\\theta_i}=\\omega_i +\\frac{\\lambda}{\\langle k\\rangle}\\sum_{j=1}^{N}A_{ij}\\sin{(\\theta_j -\\theta_i)} + b \\sin{(\\omega_f t - \\theta_i)} $$\n",
    "\n",
    "Donde, para redes mundo pequeño donde cada nodo se conecta hasta su $\\kappa$-esimo vecino:\n",
    "\n",
    "$$\\langle k\\rangle = 2\\kappa$$\n",
    "\n",
    "La funcion \"simulator\" recibe como argumentos la cantidad de osciladores N, un array con distintas fuerzas de acoplamiento $\\lambda$, el metodo de integracion numerica elegido (En este caso usamos RK4), el tiempo que voy a dejar evolucionando el sistema, la intensidad de la perturbacion externa \"b\", la frecuencia de la perturbacion periodica externa $\\omega_f$, el porcentaje de osciladores que seran perturbados p_per, la lista de vecinos de los osciladores de la red y la probabilidad de reconexion $q$. El codigo simplemente devuelve la resolucion numerica del sistema de N ecuaciones diferenciales acopladas en el tiempo final $t_f$ (Se puede modificar para que devuelva la evolucion temporal completa o en el tiempo que se desee).\n",
    "Dentro de la funcion simulador, se adapta la distribucion de frecuencias a datos experimentales del NSQ en donde se supuso que las celulas tiene un periodo de $23\\mathrm{h}$."
   ]
  },
  {
   "cell_type": "markdown",
   "id": "c14f4832-20e1-4ecc-89e3-67611dca60cd",
   "metadata": {
    "jp-MarkdownHeadingCollapsed": true
   },
   "source": [
    "## Paquetes usados"
   ]
  },
  {
   "cell_type": "code",
   "execution_count": 1,
   "id": "00d06722",
   "metadata": {},
   "outputs": [],
   "source": [
    "using Plots\n",
    "using LaTeXStrings\n",
    "using Distributions\n",
    "using JLD2\n",
    "using BenchmarkTools\n",
    "using Random\n",
    "using Dates"
   ]
  },
  {
   "cell_type": "markdown",
   "id": "a7fd55eb-6109-4c14-b2ab-be2915e6771e",
   "metadata": {
    "jp-MarkdownHeadingCollapsed": true
   },
   "source": [
    "## Definicion de funciones"
   ]
  },
  {
   "cell_type": "code",
   "execution_count": 2,
   "id": "6e7815e9",
   "metadata": {},
   "outputs": [
    {
     "data": {
      "text/plain": [
       "gen_paso_rk4 (generic function with 1 method)"
      ]
     },
     "execution_count": 2,
     "metadata": {},
     "output_type": "execute_result"
    }
   ],
   "source": [
    "function gen_paso_rk4(N)\n",
    "    k1=zeros(N)\n",
    "    k2=zeros(N)\n",
    "    k3=zeros(N)\n",
    "    k4=zeros(N)    \n",
    "    function paso_rk4!(f!,dx,x,t,h)\n",
    "        # calculamos k1\n",
    "        f!(k1,x,t)\n",
    "        k1 .*= h\n",
    "        # calculamos k2\n",
    "        dx .= x .+ 0.5 .* k1 # Aca usamos dx como variable temporal\n",
    "        f!(k2,dx,t+0.5*h)\n",
    "        k2 .*= h\n",
    "        # calculamos k3\n",
    "        dx .= x .+ 0.5 .* k2\n",
    "        f!(k3,dx,t+0.5*h)\n",
    "        k3 .*= h\n",
    "        # calculamos k4\n",
    "        dx .= x .+ k3\n",
    "        f!(k4,dx,t+h)\n",
    "        k4 .*= h\n",
    "        # calculamos dx\n",
    "        dx .= x .+ (k1 .+ 2 .* k2 .+ 2 .* k3 .+ k4) ./ 6\n",
    "    end\n",
    "    return paso_rk4!\n",
    "end"
   ]
  },
  {
   "cell_type": "code",
   "execution_count": 3,
   "id": "0d37a8ab",
   "metadata": {},
   "outputs": [
    {
     "data": {
      "text/plain": [
       "integrador_EDO! (generic function with 1 method)"
      ]
     },
     "execution_count": 3,
     "metadata": {},
     "output_type": "execute_result"
    }
   ],
   "source": [
    "function integrador_EDO!(method!,f!,vt,vx)\n",
    "    @assert size(vx)[1]>1\n",
    "    for s in 2:length(vt)\n",
    "        h = vt[s]-vt[s-1]\n",
    "        x = view(vx,:,s-1)\n",
    "        dx = view(vx,:,s)\n",
    "        method!(f!,dx,x,vt[s],h)\n",
    "    end\n",
    "    return vx\n",
    "end"
   ]
  },
  {
   "cell_type": "code",
   "execution_count": 4,
   "id": "67d05d51",
   "metadata": {},
   "outputs": [
    {
     "data": {
      "text/plain": [
       "integrador_EDO_rapido! (generic function with 1 method)"
      ]
     },
     "execution_count": 4,
     "metadata": {},
     "output_type": "execute_result"
    }
   ],
   "source": [
    "# Este integrador no devuelve la trayectoria completa, solo devuelve los puntos finales. Esto deberia agilizar el\n",
    "# analisis de datos posterior.\n",
    "\n",
    "function integrador_EDO_rapido!(method!,f!,vt,vx)\n",
    "    @assert size(vx)[1]>1\n",
    "    i1,i2=1,2\n",
    "    for s in 2:length(vt)\n",
    "        h = vt[s]-vt[s-1]\n",
    "        x = view(vx,:,i1)\n",
    "        dx = view(vx,:,i2)\n",
    "        method!(f!,dx,x,vt[s],h)\n",
    "        i1,i2=i2,i1         \n",
    "    end\n",
    "    return view(vx,:,i1)\n",
    "end"
   ]
  },
  {
   "cell_type": "markdown",
   "id": "87a28d0f",
   "metadata": {},
   "source": [
    "## Generador de una red regular"
   ]
  },
  {
   "cell_type": "code",
   "execution_count": 5,
   "id": "29bc51e8",
   "metadata": {},
   "outputs": [
    {
     "data": {
      "text/plain": [
       "gen_edgelist_regular (generic function with 1 method)"
      ]
     },
     "execution_count": 5,
     "metadata": {},
     "output_type": "execute_result"
    }
   ],
   "source": [
    "# Con la siguiente funcion genero la lista de vecinos para una red regular\n",
    "#\n",
    "#      N: Cantidad de nodos en la red\n",
    "#      k: Hasta que vecino se conecta cada nodo (Cada nodo tendra 2k conexiones)\n",
    "#\n",
    "# IMPORTANTE:\n",
    "#\n",
    "#   Se puede elegir devolver dos variables: edgelist y edgelist_2\n",
    "#\n",
    "#      edgelist: Contiene las conexiones como un array de tuplas: [(1,2),(2,1)] \n",
    "#                (Mas util para construir una SW)\n",
    "#      edgelist_2: Contiene las conexiones como una matriz : [1 2, 2 1] \n",
    "#                (Este es el formato que necesita el codigo del simulador de Kuramoto)\n",
    "\n",
    "function gen_edgelist_regular(N, k)\n",
    "    edgelist = []\n",
    "    for i in 1:N\n",
    "        for j in 1:(k+1)\n",
    "            vecino = mod(i + j - 2, N) + 1 # Calculo el indice del vecino\n",
    "            if i != vecino  # Evitar conexiones a sí mismo\n",
    "                push!(edgelist, (i,vecino))\n",
    "                push!(edgelist, (vecino,i))\n",
    "            end\n",
    "        end\n",
    "    end\n",
    "    sort!(edgelist)\n",
    "    edgelist_2 = zeros(Int,N*2*k,2)\n",
    "    for i in 1:length(edgelist)\n",
    "        edgelist_2[i,1]=edgelist[i][1]\n",
    "        edgelist_2[i,2]=edgelist[i][2]\n",
    "    end\n",
    "    return edgelist\n",
    "end"
   ]
  },
  {
   "cell_type": "markdown",
   "id": "fbdcaa3d",
   "metadata": {},
   "source": [
    "## Generador de red mundo pequeño"
   ]
  },
  {
   "cell_type": "code",
   "execution_count": 6,
   "id": "1289421d",
   "metadata": {},
   "outputs": [
    {
     "data": {
      "text/plain": [
       "gen_edgelist_small_world (generic function with 1 method)"
      ]
     },
     "execution_count": 6,
     "metadata": {},
     "output_type": "execute_result"
    }
   ],
   "source": [
    "# Con la siguiente funcion genero la lista de vecinos para una red Small World\n",
    "#\n",
    "#      N: Cantidad de nodos en la red\n",
    "#      k: Hasta que vecino se conecta cada nodo inicialmente (Cada nodo tendra 2k conexiones)\n",
    "#      p_rewiring: probabilidad de que un link se reconecte \n",
    "#\n",
    "# IMPORTANTE:\n",
    "#\n",
    "#   Se puede elegir devolver dos variables: edgelist y edgelist_2\n",
    "#\n",
    "#      edgelist_sw: Contiene las conexiones como un array de tuplas: [(1,2),(2,1)] \n",
    "#                (Mas util para construir una SW)\n",
    "#      edgelist_sw_2: Contiene las conexiones como una matriz : [1 2, 2 1] \n",
    "#                (Este es el formato que necesita el codigo del simulador de Kuramoto)\n",
    "#\n",
    "function gen_edgelist_small_world(N,k,p_rewiring)\n",
    "    # Genero la lista de vecinos de una red regular\n",
    "    regular_original = gen_edgelist_regular(N,k)\n",
    "    edgelist_sw = copy(regular_original)\n",
    "    # Genero una lista vacia donde van a ir las conexiones de la red SW\n",
    "    for (i,j) in edgelist_sw   # Recorro todos los links (i,j) de la red\n",
    "        \n",
    "        # Sorteo la probabilidad para reconectar el link\n",
    "        if rand() < p_rewiring\n",
    "            # ELijo un nodo al azar para conectarlo al nodo i-esimo\n",
    "            nodo_random = rand(1:N)\n",
    "            # Evito que el nodo se conecte con sigo mismo, fuerzo a que el nodo al azar no sea el mismo de antes y\n",
    "            # y que el nuevo link no sea un link existente\n",
    "            while (nodo_random == i || nodo_random == j) & ((i,nodo_random) in edgelist_sw) & ((nodo_random, j) in edgelist_sw)\n",
    "                nodo_random = rand(1:N)\n",
    "            end\n",
    "            # Agrego el nuevo link a la lista y elimino el viejo\n",
    "            replace!(edgelist_sw, (i,j) =>(i,nodo_random), (j,i) =>(nodo_random,i))\n",
    "        end\n",
    "    end\n",
    "    # Ordeno la lista de conexiones\n",
    "    sort!(edgelist_sw)\n",
    "    edgelist_sw_2 = zeros(Int,N*2*k,2)\n",
    "    for i in 1:length(edgelist_sw)\n",
    "        edgelist_sw_2[i,1]=edgelist_sw[i][1]\n",
    "        edgelist_sw_2[i,2]=edgelist_sw[i][2]\n",
    "    end\n",
    "    return edgelist_sw_2\n",
    "end"
   ]
  },
  {
   "cell_type": "markdown",
   "id": "6e30e6fd-059f-405b-b94b-141740202770",
   "metadata": {},
   "source": [
    "## Simulador"
   ]
  },
  {
   "cell_type": "code",
   "execution_count": 9,
   "id": "95649f22",
   "metadata": {},
   "outputs": [
    {
     "data": {
      "text/plain": [
       "simulation (generic function with 2 methods)"
      ]
     },
     "execution_count": 9,
     "metadata": {},
     "output_type": "execute_result"
    }
   ],
   "source": [
    "# Para simular genero una funcion que lo haga todo. Le paso el integrador que voy a usar, la cantidad de osciladores \"N\", una lista con valores de λ y vector \"vt\" que tiene\n",
    "# el rango de tiempos en el cual voy a trabajar.\n",
    "#\n",
    "# Inputs:\n",
    "#       integrador!: El integrador que se usara para el sistema de ecuaciones\n",
    "#       N: Cantidad de osciladores\n",
    "#       array_λ: Valores de la fuerza de acoplamiento a utilizar\n",
    "#       vt: El tiempo que dejo evolucionar al sistema\n",
    "#       p: Probabilidad de conexion de la red\n",
    "#       edgelist: Lista de vecinos de la red \n",
    "#       b: Intensidad de la fuerza periodica pertubativa\n",
    "#       ω_f: Frecuencia de la fuerza periodica perturbativa\n",
    "#       p_pert: Porcentaje del total de osciladores a ser perturbados\n",
    " \n",
    "# Return: \n",
    "#         Esta celda devuelve un array 1x7: \n",
    "#               [b: Intensidad de la perturbacion,\n",
    "#                N: Cantidad de osciladores, \n",
    "#                λ: Intensidad de acoplamiento,\n",
    "#                vt: Vector tiempo,\n",
    "#                vθ: Trayectorias(N x len(vt)),\n",
    "#                indices_perturbar: array con los osciladores que fueron perturbados,\n",
    "#                ω: Frecuencias intrinsecas de los osciladores]\n",
    "\n",
    "function simulation(integrador!,N,array_λ,vt,p_rew,edgelist,b,ω_f,p_pert)\n",
    "    paso_rk4! = gen_paso_rk4(N)\n",
    "    vθ = zeros(N,length(vt))\n",
    "    ω = zeros(N)\n",
    "\n",
    "    # Defino los osciladores que voy a perturbar\n",
    "    N_per = Int(round(N*p_pert)) # Cantidad de osciladores perturbados\n",
    "\n",
    "    muestras = []\n",
    "    for λ in array_λ\n",
    "        \n",
    "        # Sorteo los indices de los osciladores que voy a perturbar\n",
    "        indices_perturbar = sample(1:1:N, N_per, replace=false) \n",
    "        \n",
    "        function f_kuramoto!(dθ,θ,t) # Defino los osciladores\n",
    "            i_anterior = 1\n",
    "            suma = 0\n",
    "            for e in 1:size(edgelist)[1]\n",
    "                i=edgelist[e,1]\n",
    "                j=edgelist[e,2]\n",
    "                if i-i_anterior > 1 # Chequear si salteamos algun indice (Indicador de oscilador/es desacoplado/s)\n",
    "                    indice = i-1 # Agrego los osciladores desacoplados a la lista\n",
    "                    while indice > i_anterior\n",
    "                        dθ[indice] = ω[indice]\n",
    "                        indice = indice -1\n",
    "                    end\n",
    "                end\n",
    "                if i_anterior != i\n",
    "                    dθ[i_anterior] = ω[i_anterior]+(λ/(2*k))*suma\n",
    "                    i_anterior = i\n",
    "                    suma = 0\n",
    "                end\n",
    "                suma += sin(θ[j]-θ[i])\n",
    "                if e == size(edgelist)[1]\n",
    "                    dθ[i_anterior]= ω[i_anterior] + (λ/(2*k))*suma\n",
    "                    index = i\n",
    "                    while index < N\n",
    "                        dθ[index+1] = ω[index+1]\n",
    "                        index = index + 1\n",
    "                    end\n",
    "                end\n",
    "            end\n",
    "            \n",
    "            # Contingencia para el caso en que no haya NINGUN nodo conectado\n",
    "            if size(edgelist)[1] == 0 \n",
    "                for j in 1:N\n",
    "                    dθ[j] = ω[j]\n",
    "                end\n",
    "            end\n",
    "\n",
    "            # # Ahora perturbo con la fuerza periodica externa\n",
    "            for k in 1:length(indices_perturbar)\n",
    "                index = indices_perturbar[k]\n",
    "                dθ[index] += b*sin(ω_f*t - θ[index])\n",
    "            end\n",
    "            \n",
    "        end\n",
    "        # Condiciones iniciales\n",
    "        vθ[:,1] .= rand(Truncated(Normal(π,2), 0, 2π), N)\n",
    "        # Frecuencias adaptadas a datos experimentales del NSQ\n",
    "        μ = 0.2739\n",
    "        σ = 0.0122\n",
    "        ω = rand(Normal(μ,σ), N)\n",
    "        # Integrador\n",
    "        muestra = integrador!(paso_rk4!,f_kuramoto!,vt,vθ)\n",
    "        push!(muestras,[b,N,λ,vt,copy(muestra[:,end]), indices_perturbar, ω])\n",
    "    end\n",
    "    return muestras\n",
    "end"
   ]
  },
  {
   "cell_type": "code",
   "execution_count": 10,
   "id": "3462e42e",
   "metadata": {},
   "outputs": [
    {
     "name": "stdout",
     "output_type": "stream",
     "text": [
      "  8.053681 seconds (10.60 M allocations: 464.485 MiB, 3.70% gc time, 91.12% compilation time)\n"
     ]
    }
   ],
   "source": [
    "n_muestras = 5 # Cantidad de muestras por red\n",
    "n_redes = 1 # Cantidad de redes\n",
    "trayectorias = Array{Any}(undef, n_muestras, n_redes)\n",
    "\n",
    "N = 6 # Tamaño\n",
    "κ = 3 # Hasta que vecino se conecta cada nodo\n",
    "q = 0.0059 # Probabilidad de reconexion\n",
    "\n",
    "b = 0.1 # Intensidad de la perturbacion\n",
    "ω_z = 0.262 # Frecuencia del zeitgeber\n",
    "p_per = 0.1 # Porcentaje de osciladores perturbados\n",
    "\n",
    "λ = 0:0.002:0.8 # λs recorridos\n",
    "t = 0:8:75 # Tiempo de integracion\n",
    "\n",
    "@time for m in 1:n_redes\n",
    "    edgelist = gen_edgelist_small_world(N,κ,q)\n",
    "    task = Threads.@spawn begin\n",
    "        Threads.@threads for n in 1:n_muestras\n",
    "            trayectorias[n,m] = simulation(integrador_EDO!, N, λ, t, q, edgelist, b, ω_z, p_per)\n",
    "        end\n",
    "    end\n",
    "    wait(task)\n",
    "end"
   ]
  },
  {
   "cell_type": "code",
   "execution_count": 15,
   "id": "3c4cb28b",
   "metadata": {},
   "outputs": [
    {
     "data": {
      "text/plain": [
       "Dict{String, Any} with 1 entry:\n",
       "  \"Red SW κ=3 q=0.0059 b=0… => Any[Any[Any[0.1, 6, 0.0, 0:8:72, [23.6027, 23.07…"
      ]
     },
     "execution_count": 15,
     "metadata": {},
     "output_type": "execute_result"
    }
   ],
   "source": [
    "# Aca cargo o genero un diccionario sobre el cual almacenar los datos\n",
    "data = Dict()\n",
    "try\n",
    "    # We load the data dictionary if it exists\n",
    "    global data = load(\"SW Perturbado \"*string(p_per*100)*\"% b=\"*string(b)*\" N=\"*string(N)*\".jld2\")\n",
    "catch\n",
    "    # Otherwise we create the dictionary\n",
    "    println(\"Estas usando un diccionario vacio\")\n",
    "end"
   ]
  },
  {
   "cell_type": "code",
   "execution_count": 13,
   "id": "8f556b13",
   "metadata": {},
   "outputs": [],
   "source": [
    "# Almaceno los resultados en el diccionario usando la fecha actual como llave del mismo\n",
    "data[\"Red SW κ=\"*string(κ)*\" q=\"*string(q)*\" b=\"*string(b)*\" N=\"*string(N)*\" \"*string(p_per*100)*\"% perturbado - \"*Dates.format(Dates.now(),\"yyyy-mm-dd-HH-MM-SS\")]=trayectorias;"
   ]
  },
  {
   "cell_type": "code",
   "execution_count": 14,
   "id": "16c0213d",
   "metadata": {},
   "outputs": [],
   "source": [
    "# Guardo un archivo con los datos para su posterior analisis.\n",
    "save(\"SW Perturbado \"*string(p_per*100)*\"% b=\"*string(b)*\" N=\"*string(N)*\".jld2\",data)"
   ]
  },
  {
   "cell_type": "code",
   "execution_count": null,
   "id": "30ee31a9-5085-488d-a04b-037338b3f629",
   "metadata": {},
   "outputs": [],
   "source": []
  }
 ],
 "metadata": {
  "kernelspec": {
   "display_name": "Julia 1.8.5",
   "language": "julia",
   "name": "julia-1.8"
  },
  "language_info": {
   "file_extension": ".jl",
   "mimetype": "application/julia",
   "name": "julia",
   "version": "1.8.5"
  }
 },
 "nbformat": 4,
 "nbformat_minor": 5
}
