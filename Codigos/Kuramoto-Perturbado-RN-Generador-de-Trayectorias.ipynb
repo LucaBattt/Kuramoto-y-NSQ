{
 "cells": [
  {
   "cell_type": "markdown",
   "id": "b5318e09",
   "metadata": {},
   "source": [
    "# Generador de trayectorias (Redes aleatorias)\n",
    "En esta notebook planteo un sistema de N ecuaciones diferenciales de primer orden acopladas mediante el modelo de osciladores Kuramoto que conforman una red aleatoria: \n",
    "\n",
    "$$ \\dot{\\theta_i}=\\omega_i +\\frac{\\lambda}{\\langle k\\rangle}\\sum_{j=1}^{N}A_{ij}\\sin{(\\theta_j -\\theta_i)} $$\n",
    "\n",
    "A su vez, elijo un porcentaje del total de osciladores y los perturbo con una fuerza periodica:\n",
    "\n",
    "$$ \\dot{\\theta_i}=\\omega_i +\\frac{\\lambda}{\\langle k\\rangle}\\sum_{j=1}^{N}A_{ij}\\sin{(\\theta_j -\\theta_i)} + b \\sin{(\\omega_f t - \\theta_i)} $$\n",
    "\n",
    "Donde, para redes aleatorias:\n",
    "\n",
    "$$\\langle k\\rangle = p(N-1)$$\n",
    "\n",
    "La funcion \"simulator\" recibe como argumentos la cantidad de osciladores N, un array con distintas fuerzas de acoplamiento $\\lambda$, el metodo de integracion numerica elegido (En este caso usamos RK4), el tiempo que voy a dejar evolucionando el sistema, la intensidad de la perturbacion externa \"b\", la frecuencia de la perturbacion periodica externa $\\omega_f$, el porcentaje de osciladores que seran perturbados p_per, la lista de vecinos de los osciladores de la red y la probabilidad de conexion $p$. El codigo simplemente devuelve la resolucion numerica del sistema de N ecuaciones diferenciales acopladas en el tiempo final $t_f$ (Se puede modificar para que devuelva la evolucion temporal completa o en el tiempo que se desee).\n",
    "Dentro de la funcion simulador, se adapta la distribucion de frecuencias a datos experimentales del NSQ en donde se supuso que las celulas tiene un periodo de $23\\mathrm{h}$."
   ]
  },
  {
   "cell_type": "code",
   "execution_count": 1,
   "id": "00d06722",
   "metadata": {},
   "outputs": [],
   "source": [
    "using Plots\n",
    "using LaTeXStrings\n",
    "using Distributions\n",
    "using JLD2\n",
    "using BenchmarkTools\n",
    "using Random\n",
    "using Dates"
   ]
  },
  {
   "cell_type": "markdown",
   "id": "5844c34d",
   "metadata": {},
   "source": [
    "## Definicion de funciones para el integrador"
   ]
  },
  {
   "cell_type": "code",
   "execution_count": 2,
   "id": "6e7815e9",
   "metadata": {},
   "outputs": [
    {
     "data": {
      "text/plain": [
       "gen_paso_rk4 (generic function with 1 method)"
      ]
     },
     "execution_count": 2,
     "metadata": {},
     "output_type": "execute_result"
    }
   ],
   "source": [
    "function gen_paso_rk4(N)\n",
    "    k1=zeros(N)\n",
    "    k2=zeros(N)\n",
    "    k3=zeros(N)\n",
    "    k4=zeros(N)    \n",
    "    function paso_rk4!(f!,dx,x,t,h)\n",
    "        # calculamos k1\n",
    "        f!(k1,x,t)\n",
    "        k1 .*= h\n",
    "        # calculamos k2\n",
    "        dx .= x .+ 0.5 .* k1 # Aca usamos dx como variable temporal\n",
    "        f!(k2,dx,t+0.5*h)\n",
    "        k2 .*= h\n",
    "        # calculamos k3\n",
    "        dx .= x .+ 0.5 .* k2\n",
    "        f!(k3,dx,t+0.5*h)\n",
    "        k3 .*= h\n",
    "        # calculamos k4\n",
    "        dx .= x .+ k3\n",
    "        f!(k4,dx,t+h)\n",
    "        k4 .*= h\n",
    "        # calculamos dx\n",
    "        dx .= x .+ (k1 .+ 2 .* k2 .+ 2 .* k3 .+ k4) ./ 6\n",
    "    end\n",
    "    return paso_rk4!\n",
    "end"
   ]
  },
  {
   "cell_type": "code",
   "execution_count": 3,
   "id": "0d37a8ab",
   "metadata": {},
   "outputs": [
    {
     "data": {
      "text/plain": [
       "integrador_EDO! (generic function with 1 method)"
      ]
     },
     "execution_count": 3,
     "metadata": {},
     "output_type": "execute_result"
    }
   ],
   "source": [
    "# USAR ESTE INTEGRADOR\n",
    "function integrador_EDO!(method!,f!,vt,vx)\n",
    "    @assert size(vx)[1]>1\n",
    "    for s in 2:length(vt)\n",
    "        h = vt[s]-vt[s-1]\n",
    "        x = view(vx,:,s-1)\n",
    "        dx = view(vx,:,s)\n",
    "        method!(f!,dx,x,vt[s],h)\n",
    "    end\n",
    "    return vx\n",
    "end"
   ]
  },
  {
   "cell_type": "code",
   "execution_count": 4,
   "id": "67d05d51",
   "metadata": {},
   "outputs": [
    {
     "data": {
      "text/plain": [
       "integrador_EDO_rapido! (generic function with 1 method)"
      ]
     },
     "execution_count": 4,
     "metadata": {},
     "output_type": "execute_result"
    }
   ],
   "source": [
    "# Este integrador no devuelve la trayectoria completa, solo devuelve los puntos finales. Esto deberia agilizar el\n",
    "# analisis de datos posterior. NO GARANTIZO EL FUNCIONAMIENTO CORRECTO\n",
    "\n",
    "function integrador_EDO_rapido!(method!,f!,vt,vx)\n",
    "    @assert size(vx)[1]>1\n",
    "    i1,i2=1,2\n",
    "    for s in 2:length(vt)\n",
    "        h = vt[s]-vt[s-1]\n",
    "        x = view(vx,:,i1)\n",
    "        dx = view(vx,:,i2)\n",
    "        method!(f!,dx,x,vt[s],h)\n",
    "        i1,i2=i2,i1         \n",
    "    end\n",
    "    return view(vx,:,i1)\n",
    "end"
   ]
  },
  {
   "cell_type": "markdown",
   "id": "cf6b2e24",
   "metadata": {},
   "source": [
    "## Generador de la red aleatoria"
   ]
  },
  {
   "cell_type": "code",
   "execution_count": 5,
   "id": "29bc51e8",
   "metadata": {},
   "outputs": [
    {
     "data": {
      "text/plain": [
       "gen_edgelist_random (generic function with 1 method)"
      ]
     },
     "execution_count": 5,
     "metadata": {},
     "output_type": "execute_result"
    }
   ],
   "source": [
    "# Generador de random graph\n",
    "# La funcion devuelve una lista con todas las conexiones de la red\n",
    "function gen_edgelist_random(N, probabilidad_conexion)\n",
    "    edgelist = []\n",
    "    for i in 1:N\n",
    "        for j in (i+1):N\n",
    "            if rand() < probabilidad_conexion\n",
    "                push!(edgelist, (i, j))\n",
    "                push!(edgelist, (j, i))\n",
    "            end\n",
    "        end\n",
    "    end\n",
    "    # Ordenar la lista\n",
    "    sort!(edgelist)\n",
    "    edgelist_2 = zeros(Int,length(edgelist),2)\n",
    "    for i in 1:length(edgelist)\n",
    "        edgelist_2[i,1]=edgelist[i][1]\n",
    "        edgelist_2[i,2]=edgelist[i][2]\n",
    "    end\n",
    "    \n",
    "    return edgelist_2\n",
    "end"
   ]
  },
  {
   "cell_type": "markdown",
   "id": "db1aa538",
   "metadata": {},
   "source": [
    "## Implementacion del simulador"
   ]
  },
  {
   "cell_type": "code",
   "execution_count": 6,
   "id": "95649f22",
   "metadata": {},
   "outputs": [
    {
     "data": {
      "text/plain": [
       "simulation (generic function with 1 method)"
      ]
     },
     "execution_count": 6,
     "metadata": {},
     "output_type": "execute_result"
    }
   ],
   "source": [
    "# Para simular genero una funcion que lo haga todo. Le paso el integrador que voy a usar, la cantidad de osciladores \"N\", una lista con valores de λ y vector \"vt\" que tiene\n",
    "# el rango de tiempos en el cual voy a trabajar.\n",
    "#\n",
    "# Inputs:\n",
    "#       integrador!: El integrador que se usara para el sistema de ecuaciones\n",
    "#       N: Cantidad de osciladores\n",
    "#       array_λ: Valores de la fuerza de acoplamiento a utilizar\n",
    "#       vt: El tiempo que dejo evolucionar al sistema\n",
    "#       p: Probabilidad de conexion de la red\n",
    "#       edgelist: Lista de vecinos de la red \n",
    "#       b: Intensidad de la fuerza periodica pertubativa\n",
    "#       ω_f: Frecuencia de la fuerza periodica perturbativa\n",
    "#       p_pert: Porcentaje del total de osciladores a ser perturbados\n",
    " \n",
    "# Return: \n",
    "#         Esta celda devuelve un array 1x7: \n",
    "#               [b: Intensidad de la perturbacion,\n",
    "#                N: Cantidad de osciladores, \n",
    "#                λ: Intensidad de acoplamiento,\n",
    "#                vt: Vector tiempo,\n",
    "#                vθ: Trayectorias(N x len(vt)),\n",
    "#                indices_perturbar: array con los osciladores que fueron perturbados,\n",
    "#                ω: Frecuencias intrinsecas de los osciladores]\n",
    "\n",
    "function simulation(integrador!, N, array_λ, vt, p, edgelist, b, ω_f, p_pert)\n",
    "    paso_rk4! = gen_paso_rk4(N)\n",
    "    vθ = zeros(N,length(vt))\n",
    "    ω = zeros(N)\n",
    "    \n",
    "    # Defino los osciladores que voy a perturbar\n",
    "    N_per = Int(round(N*p_pert)) # Cantidad de osciladores perturbados\n",
    "\n",
    "    muestras = []\n",
    "    for λ in array_λ\n",
    "        \n",
    "        # Sorteo los indices de los osciladores que voy a perturbar\n",
    "        indices_perturbar = sample(1:1:N, N_per, replace=false) \n",
    "\n",
    "        function f_kuramoto!(dθ,θ,t) # Defino los osciladores\n",
    "            i_anterior = 1\n",
    "            suma = 0\n",
    "            for e in 1:size(edgelist)[1]\n",
    "                i=edgelist[e,1]\n",
    "                j=edgelist[e,2]\n",
    "                if i-i_anterior > 1 # Chequear si salteamos algun indice (Indicador de oscilador/es desacoplado/s)\n",
    "                    indice = i-1 # Agrego los osciladores desacoplados a la lista\n",
    "                    while indice > i_anterior\n",
    "                        dθ[indice] = ω[indice]\n",
    "                        indice = indice -1\n",
    "                    end\n",
    "                end\n",
    "                if i_anterior != i\n",
    "                    dθ[i_anterior] = ω[i_anterior]+(λ/(p*(N-1)))*suma\n",
    "                    i_anterior = i\n",
    "                    suma = 0\n",
    "                end\n",
    "                suma += sin(θ[j]-θ[i])\n",
    "                if e == size(edgelist)[1]\n",
    "                    dθ[i_anterior]= ω[i_anterior] + (λ/(p*(N-1)))*suma\n",
    "                    index = i\n",
    "                    while index < N\n",
    "                        dθ[index+1] = ω[index+1]\n",
    "                        index = index + 1\n",
    "                    end\n",
    "                end\n",
    "            end\n",
    "            if size(edgelist)[1] == 0 # Contingencia para el caso en que no haya NINGUN nodo conectado\n",
    "                for j in 1:N\n",
    "                    dθ[j] = ω[j]\n",
    "                end\n",
    "            end\n",
    "            \n",
    "            # Ahora perturbo con la fuerza periodica externa\n",
    "            for k in 1:length(indices_perturbar)\n",
    "                index = indices_perturbar[k]\n",
    "                dθ[index] += b*sin(ω_f*t - θ[index])\n",
    "            end\n",
    "        end\n",
    "        # Condiciones iniciales\n",
    "        vθ[:,1] .= rand(Truncated(Normal(π,2), 0, 2π), N)\n",
    "        # Frecuencias adaptadas a datos experimentales del NSQ\n",
    "        μ = 0.2739\n",
    "        σ = 0.0122\n",
    "        ω = rand(Normal(μ,σ), N)\n",
    "        # Integrador\n",
    "        muestra = integrador!(paso_rk4!,f_kuramoto!,vt,vθ)\n",
    "        # Almaceno los datos de las simulaciones correspondientes a t=t_f\n",
    "        push!(muestras,[b,N,λ,vt,copy(muestra[:,end]),indices_perturbar,ω])\n",
    "    end\n",
    "    return muestras\n",
    "end"
   ]
  },
  {
   "cell_type": "code",
   "execution_count": 8,
   "id": "3462e42e",
   "metadata": {},
   "outputs": [
    {
     "name": "stdout",
     "output_type": "stream",
     "text": [
      "  3.650727 seconds (8.55 M allocations: 451.816 MiB, 4.85% gc time, 99.00% compilation time)\n"
     ]
    }
   ],
   "source": [
    "n_muestras = 10 # Cantidad de muestras por red\n",
    "n_redes = 1 # Cantidad de redes\n",
    "trayectorias = Array{Any}(undef, n_muestras, n_redes)\n",
    "\n",
    "N = 1024 # Tamaño\n",
    "p = 0.0059 # Probabilidad de conexion\n",
    "\n",
    "b = 0.1 # Intensidad de la perturbacion\n",
    "ω_z = 0.262 # Frecuencia del zeitgeber\n",
    "p_per = 0.1 # Porcentaje de osciladores perturbados\n",
    "\n",
    "λ = 0:0.01:0.4 # λs recorridos\n",
    "t = 0.0:2:2000 # Tiempo de integracion\n",
    "\n",
    "@time for m in 1:n_redes\n",
    "    edgelist = gen_edgelist_random(N,p)\n",
    "    task = Threads.@spawn begin\n",
    "        Threads.@threads for n in 1:n_muestras\n",
    "            trayectorias[n,m] = simulation(integrador_EDO!, N, λ, t, p, edgelist, b, ω_z, p_per)\n",
    "        end\n",
    "    end\n",
    "    wait(task)\n",
    "end"
   ]
  },
  {
   "cell_type": "code",
   "execution_count": 9,
   "id": "3c4cb28b",
   "metadata": {},
   "outputs": [
    {
     "name": "stdout",
     "output_type": "stream",
     "text": [
      "Estas usando un diccionario vacio\n"
     ]
    }
   ],
   "source": [
    "# Aca cargo o genero un diccionario sobre el cual almacenar los datos\n",
    "data = Dict()\n",
    "try\n",
    "    # We load the data dictionary if it exists\n",
    "    global data = load(\"RN Perturbado \"*string(p_per*100)*\"% b=\"*string(b)*\" N=\"*string(N)*\".jld2\")\n",
    "catch\n",
    "    # Otherwise we create the dictionary\n",
    "    println(\"Estas usando un diccionario vacio\")\n",
    "end"
   ]
  },
  {
   "cell_type": "code",
   "execution_count": 10,
   "id": "8f556b13",
   "metadata": {},
   "outputs": [],
   "source": [
    "# Almaceno los resultados en el diccionario usando la fecha actual como llave del mismo\n",
    "data[\"Red ER p=\"*string(p)*\"b=\"*string(b)*\" N=\"*string(N)*\" \"*string(p_per*100)*\"% perturbado - \"*Dates.format(Dates.now(),\"yyyy-mm-dd-HH-MM-SS\")]=trayectorias;"
   ]
  },
  {
   "cell_type": "code",
   "execution_count": 22,
   "id": "16c0213d",
   "metadata": {},
   "outputs": [],
   "source": [
    "# Guardo un archivo con los datos para su posterior analisis.\n",
    "save(\"RN Perturbado \"*string(p_per*100)*\"% b=\"*string(b)*\" N=\"*string(N)*\".jld2\",data)"
   ]
  }
 ],
 "metadata": {
  "kernelspec": {
   "display_name": "Julia 1.8.5",
   "language": "julia",
   "name": "julia-1.8"
  },
  "language_info": {
   "file_extension": ".jl",
   "mimetype": "application/julia",
   "name": "julia",
   "version": "1.8.5"
  }
 },
 "nbformat": 4,
 "nbformat_minor": 5
}
